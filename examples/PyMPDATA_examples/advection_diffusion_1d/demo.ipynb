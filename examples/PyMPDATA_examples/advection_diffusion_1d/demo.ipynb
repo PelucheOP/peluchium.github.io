{
  "cells": [
    {
      "cell_type": "markdown",
      "metadata": {
        "id": "view-in-github",
        "colab_type": "text"
      },
      "source": [
        "<a href=\"https://colab.research.google.com/github/PelucheOP/peluchium.github.io/blob/main/examples/PyMPDATA_examples/advection_diffusion_1d/demo.ipynb\" target=\"_parent\"><img src=\"https://colab.research.google.com/assets/colab-badge.svg\" alt=\"Open In Colab\"/></a>"
      ]
    },
    {
      "cell_type": "markdown",
      "metadata": {
        "id": "zWbsZF2nMkL1"
      },
      "source": [
        "[![preview notebook](https://img.shields.io/static/v1?label=render%20on&logo=github&color=87ce3e&message=GitHub)](https://github.com/open-atmos/PyMPDATA/blob/main/examples/PyMPDATA_examples/advection_diffusion_1d/demo.ipynb)\n",
        "[![launch on mybinder.org](https://mybinder.org/badge_logo.svg)](https://mybinder.org/v2/gh/open-atmos/PyMPDATA.git/main?urlpath=lab/tree/examples/PyMPDATA_examples/advection_diffusion_1d/demo.ipynb)\n",
        "[![launch on Colab](https://colab.research.google.com/assets/colab-badge.svg)](https://colab.research.google.com/github/open-atmos/PyMPDATA/blob/main/examples/PyMPDATA_examples/advection_diffusion_1d/demo.ipynb)"
      ]
    },
    {
      "cell_type": "markdown",
      "metadata": {
        "id": "N0e2Yw5AMkL5"
      },
      "source": [
        "basic demo of advection-diffusion solution with comparison against analytic solution (using sympy)"
      ]
    },
    {
      "cell_type": "code",
      "execution_count": 2,
      "metadata": {
        "id": "iBCppQ1cMkL6"
      },
      "outputs": [],
      "source": [
        "import sys\n",
        "if 'google.colab' in sys.modules:\n",
        "    !pip --quiet install open-atmos-jupyter-utils\n",
        "    from open_atmos_jupyter_utils import pip_install_on_colab\n",
        "    pip_install_on_colab('PyMPDATA-examples')"
      ]
    },
    {
      "cell_type": "code",
      "execution_count": 3,
      "metadata": {
        "id": "4a4fM3f7MkL7"
      },
      "outputs": [],
      "source": [
        "import os\n",
        "import numpy as np\n",
        "import sympy as sp\n",
        "from IPython.display import HTML, display\n",
        "import matplotlib.pyplot as plt\n",
        "from matplotlib.animation import FuncAnimation\n",
        "from open_atmos_jupyter_utils import show_plot\n",
        "from PyMPDATA import Solver, ScalarField, VectorField, Stepper, Options\n",
        "from PyMPDATA.boundary_conditions import Periodic"
      ]
    },
    {
      "cell_type": "code",
      "execution_count": 37,
      "metadata": {
        "id": "9Em2-sObMkL8"
      },
      "outputs": [],
      "source": [
        "#Eq parameters\n",
        "mu = 0\n",
        "\n",
        "solution_symbolic = sp.sympify(\"sin(pi*(x-c*t))*exp(-mu*pi**2*t) + 2\", rational=True)\n",
        "u0_symbolic = solution_symbolic.subs({\"t\":0})\n",
        "\n",
        "#Sim Parameters\n",
        "steps_per_iter = 1\n",
        "opts = Options(n_iters=3, non_zero_mu_coeff=True, infinite_gauge=True, nonoscillatory=True)\n",
        "\n",
        "#Plot Parameters\n",
        "r_array = np.array([5])\n",
        "c_array = np.array([0.5])"
      ]
    },
    {
      "cell_type": "code",
      "execution_count": 38,
      "metadata": {
        "colab": {
          "base_uri": "https://localhost:8080/"
        },
        "id": "eZCNO0HiMkL9",
        "outputId": "c5187831-5847-4733-9f18-d093bfec6f50"
      },
      "outputs": [
        {
          "output_type": "stream",
          "name": "stdout",
          "text": [
            "R 5\n",
            "-1.0 0.99609375 [-1.         -0.99609375 -0.9921875  -0.98828125 -0.984375   -0.98046875\n",
            " -0.9765625  -0.97265625 -0.96875    -0.96484375 -0.9609375  -0.95703125\n",
            " -0.953125   -0.94921875 -0.9453125  -0.94140625 -0.9375     -0.93359375\n",
            " -0.9296875  -0.92578125 -0.921875   -0.91796875 -0.9140625  -0.91015625\n",
            " -0.90625    -0.90234375 -0.8984375  -0.89453125 -0.890625   -0.88671875\n",
            " -0.8828125  -0.87890625 -0.875      -0.87109375 -0.8671875  -0.86328125\n",
            " -0.859375   -0.85546875 -0.8515625  -0.84765625 -0.84375    -0.83984375\n",
            " -0.8359375  -0.83203125 -0.828125   -0.82421875 -0.8203125  -0.81640625\n",
            " -0.8125     -0.80859375 -0.8046875  -0.80078125 -0.796875   -0.79296875\n",
            " -0.7890625  -0.78515625 -0.78125    -0.77734375 -0.7734375  -0.76953125\n",
            " -0.765625   -0.76171875 -0.7578125  -0.75390625 -0.75       -0.74609375\n",
            " -0.7421875  -0.73828125 -0.734375   -0.73046875 -0.7265625  -0.72265625\n",
            " -0.71875    -0.71484375 -0.7109375  -0.70703125 -0.703125   -0.69921875\n",
            " -0.6953125  -0.69140625 -0.6875     -0.68359375 -0.6796875  -0.67578125\n",
            " -0.671875   -0.66796875 -0.6640625  -0.66015625 -0.65625    -0.65234375\n",
            " -0.6484375  -0.64453125 -0.640625   -0.63671875 -0.6328125  -0.62890625\n",
            " -0.625      -0.62109375 -0.6171875  -0.61328125 -0.609375   -0.60546875\n",
            " -0.6015625  -0.59765625 -0.59375    -0.58984375 -0.5859375  -0.58203125\n",
            " -0.578125   -0.57421875 -0.5703125  -0.56640625 -0.5625     -0.55859375\n",
            " -0.5546875  -0.55078125 -0.546875   -0.54296875 -0.5390625  -0.53515625\n",
            " -0.53125    -0.52734375 -0.5234375  -0.51953125 -0.515625   -0.51171875\n",
            " -0.5078125  -0.50390625 -0.5        -0.49609375 -0.4921875  -0.48828125\n",
            " -0.484375   -0.48046875 -0.4765625  -0.47265625 -0.46875    -0.46484375\n",
            " -0.4609375  -0.45703125 -0.453125   -0.44921875 -0.4453125  -0.44140625\n",
            " -0.4375     -0.43359375 -0.4296875  -0.42578125 -0.421875   -0.41796875\n",
            " -0.4140625  -0.41015625 -0.40625    -0.40234375 -0.3984375  -0.39453125\n",
            " -0.390625   -0.38671875 -0.3828125  -0.37890625 -0.375      -0.37109375\n",
            " -0.3671875  -0.36328125 -0.359375   -0.35546875 -0.3515625  -0.34765625\n",
            " -0.34375    -0.33984375 -0.3359375  -0.33203125 -0.328125   -0.32421875\n",
            " -0.3203125  -0.31640625 -0.3125     -0.30859375 -0.3046875  -0.30078125\n",
            " -0.296875   -0.29296875 -0.2890625  -0.28515625 -0.28125    -0.27734375\n",
            " -0.2734375  -0.26953125 -0.265625   -0.26171875 -0.2578125  -0.25390625\n",
            " -0.25       -0.24609375 -0.2421875  -0.23828125 -0.234375   -0.23046875\n",
            " -0.2265625  -0.22265625 -0.21875    -0.21484375 -0.2109375  -0.20703125\n",
            " -0.203125   -0.19921875 -0.1953125  -0.19140625 -0.1875     -0.18359375\n",
            " -0.1796875  -0.17578125 -0.171875   -0.16796875 -0.1640625  -0.16015625\n",
            " -0.15625    -0.15234375 -0.1484375  -0.14453125 -0.140625   -0.13671875\n",
            " -0.1328125  -0.12890625 -0.125      -0.12109375 -0.1171875  -0.11328125\n",
            " -0.109375   -0.10546875 -0.1015625  -0.09765625 -0.09375    -0.08984375\n",
            " -0.0859375  -0.08203125 -0.078125   -0.07421875 -0.0703125  -0.06640625\n",
            " -0.0625     -0.05859375 -0.0546875  -0.05078125 -0.046875   -0.04296875\n",
            " -0.0390625  -0.03515625 -0.03125    -0.02734375 -0.0234375  -0.01953125\n",
            " -0.015625   -0.01171875 -0.0078125  -0.00390625  0.          0.00390625\n",
            "  0.0078125   0.01171875  0.015625    0.01953125  0.0234375   0.02734375\n",
            "  0.03125     0.03515625  0.0390625   0.04296875  0.046875    0.05078125\n",
            "  0.0546875   0.05859375  0.0625      0.06640625  0.0703125   0.07421875\n",
            "  0.078125    0.08203125  0.0859375   0.08984375  0.09375     0.09765625\n",
            "  0.1015625   0.10546875  0.109375    0.11328125  0.1171875   0.12109375\n",
            "  0.125       0.12890625  0.1328125   0.13671875  0.140625    0.14453125\n",
            "  0.1484375   0.15234375  0.15625     0.16015625  0.1640625   0.16796875\n",
            "  0.171875    0.17578125  0.1796875   0.18359375  0.1875      0.19140625\n",
            "  0.1953125   0.19921875  0.203125    0.20703125  0.2109375   0.21484375\n",
            "  0.21875     0.22265625  0.2265625   0.23046875  0.234375    0.23828125\n",
            "  0.2421875   0.24609375  0.25        0.25390625  0.2578125   0.26171875\n",
            "  0.265625    0.26953125  0.2734375   0.27734375  0.28125     0.28515625\n",
            "  0.2890625   0.29296875  0.296875    0.30078125  0.3046875   0.30859375\n",
            "  0.3125      0.31640625  0.3203125   0.32421875  0.328125    0.33203125\n",
            "  0.3359375   0.33984375  0.34375     0.34765625  0.3515625   0.35546875\n",
            "  0.359375    0.36328125  0.3671875   0.37109375  0.375       0.37890625\n",
            "  0.3828125   0.38671875  0.390625    0.39453125  0.3984375   0.40234375\n",
            "  0.40625     0.41015625  0.4140625   0.41796875  0.421875    0.42578125\n",
            "  0.4296875   0.43359375  0.4375      0.44140625  0.4453125   0.44921875\n",
            "  0.453125    0.45703125  0.4609375   0.46484375  0.46875     0.47265625\n",
            "  0.4765625   0.48046875  0.484375    0.48828125  0.4921875   0.49609375\n",
            "  0.5         0.50390625  0.5078125   0.51171875  0.515625    0.51953125\n",
            "  0.5234375   0.52734375  0.53125     0.53515625  0.5390625   0.54296875\n",
            "  0.546875    0.55078125  0.5546875   0.55859375  0.5625      0.56640625\n",
            "  0.5703125   0.57421875  0.578125    0.58203125  0.5859375   0.58984375\n",
            "  0.59375     0.59765625  0.6015625   0.60546875  0.609375    0.61328125\n",
            "  0.6171875   0.62109375  0.625       0.62890625  0.6328125   0.63671875\n",
            "  0.640625    0.64453125  0.6484375   0.65234375  0.65625     0.66015625\n",
            "  0.6640625   0.66796875  0.671875    0.67578125  0.6796875   0.68359375\n",
            "  0.6875      0.69140625  0.6953125   0.69921875  0.703125    0.70703125\n",
            "  0.7109375   0.71484375  0.71875     0.72265625  0.7265625   0.73046875\n",
            "  0.734375    0.73828125  0.7421875   0.74609375  0.75        0.75390625\n",
            "  0.7578125   0.76171875  0.765625    0.76953125  0.7734375   0.77734375\n",
            "  0.78125     0.78515625  0.7890625   0.79296875  0.796875    0.80078125\n",
            "  0.8046875   0.80859375  0.8125      0.81640625  0.8203125   0.82421875\n",
            "  0.828125    0.83203125  0.8359375   0.83984375  0.84375     0.84765625\n",
            "  0.8515625   0.85546875  0.859375    0.86328125  0.8671875   0.87109375\n",
            "  0.875       0.87890625  0.8828125   0.88671875  0.890625    0.89453125\n",
            "  0.8984375   0.90234375  0.90625     0.91015625  0.9140625   0.91796875\n",
            "  0.921875    0.92578125  0.9296875   0.93359375  0.9375      0.94140625\n",
            "  0.9453125   0.94921875  0.953125    0.95703125  0.9609375   0.96484375\n",
            "  0.96875     0.97265625  0.9765625   0.98046875  0.984375    0.98828125\n",
            "  0.9921875   0.99609375]\n",
            "\t 0.5\n"
          ]
        }
      ],
      "source": [
        "results = {}\n",
        "domains = {}\n",
        "solutions = {}\n",
        "max_error = {}\n",
        "\n",
        "for r in r_array:\n",
        "    print(f\"R {r}\")\n",
        "    nx = 16 * 2**r\n",
        "\n",
        "    domain_symbolic = [-1+sp.Rational(2*i, nx) for i in range(nx)] # domain = [-1, ..., 1]\n",
        "    domain = np.array(domain_symbolic, dtype=float)\n",
        "    u0 = np.array([u0_symbolic.subs(\"x\", x) for x in domain_symbolic], dtype=float)\n",
        "\n",
        "    boundary_conditions = (Periodic(),)\n",
        "    stepper = Stepper(options=opts, n_dims=len(u0.shape), non_unit_g_factor=False)\n",
        "    solver = Solver(stepper=stepper,\n",
        "                    advectee=ScalarField(u0.astype(dtype=opts.dtype), halo=opts.n_halo,\n",
        "                                         boundary_conditions=boundary_conditions),\n",
        "                    advector=VectorField((np.full(u0.shape[0] + 1, 0, dtype=opts.dtype),), halo=opts.n_halo,\n",
        "                                         boundary_conditions=boundary_conditions)\n",
        "                    )\n",
        "\n",
        "    for C in c_array:\n",
        "        print(\"\\t\", C)\n",
        "\n",
        "        #Params\n",
        "        dx = 2 / nx\n",
        "        phys_c = 2 * C / nx\n",
        "        phys_mu = mu * dx**2\n",
        "        nt = int(4 / C / dx)\n",
        "\n",
        "        solution = solution_symbolic.subs({\"c\" : phys_c, \"mu\" : phys_mu})\n",
        "        #display(solution)\n",
        "\n",
        "        ###SIM\n",
        "        solver.advector.data[0][:] = C\n",
        "        solver.advectee.get()[:] = u0\n",
        "\n",
        "        numerical_results = [solver.advectee.get().copy()]\n",
        "        for i in range(nt):\n",
        "            solver.advance(steps_per_iter, mu_coeff=(mu,))\n",
        "            numerical_results.append(solver.advectee.get().copy())\n",
        "\n",
        "        numerical_results = np.array(numerical_results)\n",
        "        key = (r, C)\n",
        "        results[key] = numerical_results\n",
        "        domains[key] = domain\n",
        "        solutions[key] = solution\n",
        "\n",
        "        ###ERR\n",
        "        u = sp.lambdify(\"x,t\", solution)\n",
        "        steps = np.arange(nt + 1, dtype=int).reshape(-1, 1) * steps_per_iter\n",
        "        error = np.sqrt(np.sum((u(domain, steps) - numerical_results)**2, axis=1)/nx)\n",
        "        max_idx = np.argmax(error)\n",
        "        max_error[key] = error[max_idx]\n"
      ]
    },
    {
      "cell_type": "code",
      "execution_count": 39,
      "metadata": {
        "colab": {
          "base_uri": "https://localhost:8080/",
          "height": 785
        },
        "id": "LxGW8kuVMkL9",
        "outputId": "188fe9cd-82da-462d-dfd1-9eefc5fdab0c"
      },
      "outputs": [
        {
          "output_type": "error",
          "ename": "TypeError",
          "evalue": "Input z must be at least a (2, 2) shaped array, but has shape (1, 1)",
          "traceback": [
            "\u001b[0;31m---------------------------------------------------------------------------\u001b[0m",
            "\u001b[0;31mTypeError\u001b[0m                                 Traceback (most recent call last)",
            "\u001b[0;32m<ipython-input-39-f97749d9445c>\u001b[0m in \u001b[0;36m<cell line: 10>\u001b[0;34m()\u001b[0m\n\u001b[1;32m      8\u001b[0m \u001b[0max\u001b[0m \u001b[0;34m=\u001b[0m \u001b[0mplt\u001b[0m\u001b[0;34m.\u001b[0m\u001b[0msubplot\u001b[0m\u001b[0;34m(\u001b[0m\u001b[0;36m111\u001b[0m\u001b[0;34m,\u001b[0m \u001b[0mprojection\u001b[0m\u001b[0;34m=\u001b[0m\u001b[0;34m'polar'\u001b[0m\u001b[0;34m)\u001b[0m\u001b[0;34m\u001b[0m\u001b[0;34m\u001b[0m\u001b[0m\n\u001b[1;32m      9\u001b[0m \u001b[0;34m\u001b[0m\u001b[0m\n\u001b[0;32m---> 10\u001b[0;31m \u001b[0mcnt\u001b[0m \u001b[0;34m=\u001b[0m \u001b[0max\u001b[0m\u001b[0;34m.\u001b[0m\u001b[0mcontourf\u001b[0m\u001b[0;34m(\u001b[0m\u001b[0mX\u001b[0m\u001b[0;34m,\u001b[0m \u001b[0mY\u001b[0m\u001b[0;34m,\u001b[0m \u001b[0mZ\u001b[0m\u001b[0;34m)\u001b[0m\u001b[0;34m\u001b[0m\u001b[0;34m\u001b[0m\u001b[0m\n\u001b[0m\u001b[1;32m     11\u001b[0m \u001b[0mlegend\u001b[0m \u001b[0;34m=\u001b[0m \u001b[0mplt\u001b[0m\u001b[0;34m.\u001b[0m\u001b[0mcolorbar\u001b[0m\u001b[0;34m(\u001b[0m\u001b[0mcnt\u001b[0m\u001b[0;34m,\u001b[0m \u001b[0max\u001b[0m\u001b[0;34m=\u001b[0m\u001b[0max\u001b[0m\u001b[0;34m,\u001b[0m \u001b[0mpad\u001b[0m\u001b[0;34m=\u001b[0m\u001b[0;36m0.1\u001b[0m\u001b[0;34m)\u001b[0m\u001b[0;34m\u001b[0m\u001b[0;34m\u001b[0m\u001b[0m\n\u001b[1;32m     12\u001b[0m \u001b[0;34m\u001b[0m\u001b[0m\n",
            "\u001b[0;32m/usr/local/lib/python3.10/dist-packages/matplotlib/__init__.py\u001b[0m in \u001b[0;36minner\u001b[0;34m(ax, data, *args, **kwargs)\u001b[0m\n\u001b[1;32m   1463\u001b[0m     \u001b[0;32mdef\u001b[0m \u001b[0minner\u001b[0m\u001b[0;34m(\u001b[0m\u001b[0max\u001b[0m\u001b[0;34m,\u001b[0m \u001b[0;34m*\u001b[0m\u001b[0margs\u001b[0m\u001b[0;34m,\u001b[0m \u001b[0mdata\u001b[0m\u001b[0;34m=\u001b[0m\u001b[0;32mNone\u001b[0m\u001b[0;34m,\u001b[0m \u001b[0;34m**\u001b[0m\u001b[0mkwargs\u001b[0m\u001b[0;34m)\u001b[0m\u001b[0;34m:\u001b[0m\u001b[0;34m\u001b[0m\u001b[0;34m\u001b[0m\u001b[0m\n\u001b[1;32m   1464\u001b[0m         \u001b[0;32mif\u001b[0m \u001b[0mdata\u001b[0m \u001b[0;32mis\u001b[0m \u001b[0;32mNone\u001b[0m\u001b[0;34m:\u001b[0m\u001b[0;34m\u001b[0m\u001b[0;34m\u001b[0m\u001b[0m\n\u001b[0;32m-> 1465\u001b[0;31m             \u001b[0;32mreturn\u001b[0m \u001b[0mfunc\u001b[0m\u001b[0;34m(\u001b[0m\u001b[0max\u001b[0m\u001b[0;34m,\u001b[0m \u001b[0;34m*\u001b[0m\u001b[0mmap\u001b[0m\u001b[0;34m(\u001b[0m\u001b[0msanitize_sequence\u001b[0m\u001b[0;34m,\u001b[0m \u001b[0margs\u001b[0m\u001b[0;34m)\u001b[0m\u001b[0;34m,\u001b[0m \u001b[0;34m**\u001b[0m\u001b[0mkwargs\u001b[0m\u001b[0;34m)\u001b[0m\u001b[0;34m\u001b[0m\u001b[0;34m\u001b[0m\u001b[0m\n\u001b[0m\u001b[1;32m   1466\u001b[0m \u001b[0;34m\u001b[0m\u001b[0m\n\u001b[1;32m   1467\u001b[0m         \u001b[0mbound\u001b[0m \u001b[0;34m=\u001b[0m \u001b[0mnew_sig\u001b[0m\u001b[0;34m.\u001b[0m\u001b[0mbind\u001b[0m\u001b[0;34m(\u001b[0m\u001b[0max\u001b[0m\u001b[0;34m,\u001b[0m \u001b[0;34m*\u001b[0m\u001b[0margs\u001b[0m\u001b[0;34m,\u001b[0m \u001b[0;34m**\u001b[0m\u001b[0mkwargs\u001b[0m\u001b[0;34m)\u001b[0m\u001b[0;34m\u001b[0m\u001b[0;34m\u001b[0m\u001b[0m\n",
            "\u001b[0;32m/usr/local/lib/python3.10/dist-packages/matplotlib/axes/_axes.py\u001b[0m in \u001b[0;36mcontourf\u001b[0;34m(self, *args, **kwargs)\u001b[0m\n\u001b[1;32m   6526\u001b[0m         \"\"\"\n\u001b[1;32m   6527\u001b[0m         \u001b[0mkwargs\u001b[0m\u001b[0;34m[\u001b[0m\u001b[0;34m'filled'\u001b[0m\u001b[0;34m]\u001b[0m \u001b[0;34m=\u001b[0m \u001b[0;32mTrue\u001b[0m\u001b[0;34m\u001b[0m\u001b[0;34m\u001b[0m\u001b[0m\n\u001b[0;32m-> 6528\u001b[0;31m         \u001b[0mcontours\u001b[0m \u001b[0;34m=\u001b[0m \u001b[0mmcontour\u001b[0m\u001b[0;34m.\u001b[0m\u001b[0mQuadContourSet\u001b[0m\u001b[0;34m(\u001b[0m\u001b[0mself\u001b[0m\u001b[0;34m,\u001b[0m \u001b[0;34m*\u001b[0m\u001b[0margs\u001b[0m\u001b[0;34m,\u001b[0m \u001b[0;34m**\u001b[0m\u001b[0mkwargs\u001b[0m\u001b[0;34m)\u001b[0m\u001b[0;34m\u001b[0m\u001b[0;34m\u001b[0m\u001b[0m\n\u001b[0m\u001b[1;32m   6529\u001b[0m         \u001b[0mself\u001b[0m\u001b[0;34m.\u001b[0m\u001b[0m_request_autoscale_view\u001b[0m\u001b[0;34m(\u001b[0m\u001b[0;34m)\u001b[0m\u001b[0;34m\u001b[0m\u001b[0;34m\u001b[0m\u001b[0m\n\u001b[1;32m   6530\u001b[0m         \u001b[0;32mreturn\u001b[0m \u001b[0mcontours\u001b[0m\u001b[0;34m\u001b[0m\u001b[0;34m\u001b[0m\u001b[0m\n",
            "\u001b[0;32m/usr/local/lib/python3.10/dist-packages/matplotlib/contour.py\u001b[0m in \u001b[0;36m__init__\u001b[0;34m(self, ax, levels, filled, linewidths, linestyles, hatches, alpha, origin, extent, cmap, colors, norm, vmin, vmax, extend, antialiased, nchunk, locator, transform, negative_linestyles, clip_path, *args, **kwargs)\u001b[0m\n\u001b[1;32m    845\u001b[0m                 \u001b[0mmpl\u001b[0m\u001b[0;34m.\u001b[0m\u001b[0mrcParams\u001b[0m\u001b[0;34m[\u001b[0m\u001b[0;34m'contour.negative_linestyle'\u001b[0m\u001b[0;34m]\u001b[0m\u001b[0;34m\u001b[0m\u001b[0;34m\u001b[0m\u001b[0m\n\u001b[1;32m    846\u001b[0m \u001b[0;34m\u001b[0m\u001b[0m\n\u001b[0;32m--> 847\u001b[0;31m         \u001b[0mkwargs\u001b[0m \u001b[0;34m=\u001b[0m \u001b[0mself\u001b[0m\u001b[0;34m.\u001b[0m\u001b[0m_process_args\u001b[0m\u001b[0;34m(\u001b[0m\u001b[0;34m*\u001b[0m\u001b[0margs\u001b[0m\u001b[0;34m,\u001b[0m \u001b[0;34m**\u001b[0m\u001b[0mkwargs\u001b[0m\u001b[0;34m)\u001b[0m\u001b[0;34m\u001b[0m\u001b[0;34m\u001b[0m\u001b[0m\n\u001b[0m\u001b[1;32m    848\u001b[0m         \u001b[0mself\u001b[0m\u001b[0;34m.\u001b[0m\u001b[0m_process_levels\u001b[0m\u001b[0;34m(\u001b[0m\u001b[0;34m)\u001b[0m\u001b[0;34m\u001b[0m\u001b[0;34m\u001b[0m\u001b[0m\n\u001b[1;32m    849\u001b[0m \u001b[0;34m\u001b[0m\u001b[0m\n",
            "\u001b[0;32m/usr/local/lib/python3.10/dist-packages/matplotlib/contour.py\u001b[0m in \u001b[0;36m_process_args\u001b[0;34m(self, corner_mask, algorithm, *args, **kwargs)\u001b[0m\n\u001b[1;32m   1531\u001b[0m             \u001b[0mself\u001b[0m\u001b[0;34m.\u001b[0m\u001b[0m_corner_mask\u001b[0m \u001b[0;34m=\u001b[0m \u001b[0mcorner_mask\u001b[0m\u001b[0;34m\u001b[0m\u001b[0;34m\u001b[0m\u001b[0m\n\u001b[1;32m   1532\u001b[0m \u001b[0;34m\u001b[0m\u001b[0m\n\u001b[0;32m-> 1533\u001b[0;31m             \u001b[0mx\u001b[0m\u001b[0;34m,\u001b[0m \u001b[0my\u001b[0m\u001b[0;34m,\u001b[0m \u001b[0mz\u001b[0m \u001b[0;34m=\u001b[0m \u001b[0mself\u001b[0m\u001b[0;34m.\u001b[0m\u001b[0m_contour_args\u001b[0m\u001b[0;34m(\u001b[0m\u001b[0margs\u001b[0m\u001b[0;34m,\u001b[0m \u001b[0mkwargs\u001b[0m\u001b[0;34m)\u001b[0m\u001b[0;34m\u001b[0m\u001b[0;34m\u001b[0m\u001b[0m\n\u001b[0m\u001b[1;32m   1534\u001b[0m \u001b[0;34m\u001b[0m\u001b[0m\n\u001b[1;32m   1535\u001b[0m             contour_generator = contourpy.contour_generator(\n",
            "\u001b[0;32m/usr/local/lib/python3.10/dist-packages/matplotlib/contour.py\u001b[0m in \u001b[0;36m_contour_args\u001b[0;34m(self, args, kwargs)\u001b[0m\n\u001b[1;32m   1571\u001b[0m         \u001b[0;32melif\u001b[0m \u001b[0;36m2\u001b[0m \u001b[0;34m<\u001b[0m \u001b[0mnargs\u001b[0m \u001b[0;34m<=\u001b[0m \u001b[0;36m4\u001b[0m\u001b[0;34m:\u001b[0m\u001b[0;34m\u001b[0m\u001b[0;34m\u001b[0m\u001b[0m\n\u001b[1;32m   1572\u001b[0m             \u001b[0mx\u001b[0m\u001b[0;34m,\u001b[0m \u001b[0my\u001b[0m\u001b[0;34m,\u001b[0m \u001b[0mz_orig\u001b[0m\u001b[0;34m,\u001b[0m \u001b[0;34m*\u001b[0m\u001b[0margs\u001b[0m \u001b[0;34m=\u001b[0m \u001b[0margs\u001b[0m\u001b[0;34m\u001b[0m\u001b[0;34m\u001b[0m\u001b[0m\n\u001b[0;32m-> 1573\u001b[0;31m             \u001b[0mx\u001b[0m\u001b[0;34m,\u001b[0m \u001b[0my\u001b[0m\u001b[0;34m,\u001b[0m \u001b[0mz\u001b[0m \u001b[0;34m=\u001b[0m \u001b[0mself\u001b[0m\u001b[0;34m.\u001b[0m\u001b[0m_check_xyz\u001b[0m\u001b[0;34m(\u001b[0m\u001b[0mx\u001b[0m\u001b[0;34m,\u001b[0m \u001b[0my\u001b[0m\u001b[0;34m,\u001b[0m \u001b[0mz_orig\u001b[0m\u001b[0;34m,\u001b[0m \u001b[0mkwargs\u001b[0m\u001b[0;34m)\u001b[0m\u001b[0;34m\u001b[0m\u001b[0;34m\u001b[0m\u001b[0m\n\u001b[0m\u001b[1;32m   1574\u001b[0m \u001b[0;34m\u001b[0m\u001b[0m\n\u001b[1;32m   1575\u001b[0m         \u001b[0;32melse\u001b[0m\u001b[0;34m:\u001b[0m\u001b[0;34m\u001b[0m\u001b[0;34m\u001b[0m\u001b[0m\n",
            "\u001b[0;32m/usr/local/lib/python3.10/dist-packages/matplotlib/contour.py\u001b[0m in \u001b[0;36m_check_xyz\u001b[0;34m(self, x, y, z, kwargs)\u001b[0m\n\u001b[1;32m   1599\u001b[0m             \u001b[0;32mraise\u001b[0m \u001b[0mTypeError\u001b[0m\u001b[0;34m(\u001b[0m\u001b[0;34mf\"Input z must be 2D, not {z.ndim}D\"\u001b[0m\u001b[0;34m)\u001b[0m\u001b[0;34m\u001b[0m\u001b[0;34m\u001b[0m\u001b[0m\n\u001b[1;32m   1600\u001b[0m         \u001b[0;32mif\u001b[0m \u001b[0mz\u001b[0m\u001b[0;34m.\u001b[0m\u001b[0mshape\u001b[0m\u001b[0;34m[\u001b[0m\u001b[0;36m0\u001b[0m\u001b[0;34m]\u001b[0m \u001b[0;34m<\u001b[0m \u001b[0;36m2\u001b[0m \u001b[0;32mor\u001b[0m \u001b[0mz\u001b[0m\u001b[0;34m.\u001b[0m\u001b[0mshape\u001b[0m\u001b[0;34m[\u001b[0m\u001b[0;36m1\u001b[0m\u001b[0;34m]\u001b[0m \u001b[0;34m<\u001b[0m \u001b[0;36m2\u001b[0m\u001b[0;34m:\u001b[0m\u001b[0;34m\u001b[0m\u001b[0;34m\u001b[0m\u001b[0m\n\u001b[0;32m-> 1601\u001b[0;31m             raise TypeError(f\"Input z must be at least a (2, 2) shaped array, \"\n\u001b[0m\u001b[1;32m   1602\u001b[0m                             f\"but has shape {z.shape}\")\n\u001b[1;32m   1603\u001b[0m         \u001b[0mNy\u001b[0m\u001b[0;34m,\u001b[0m \u001b[0mNx\u001b[0m \u001b[0;34m=\u001b[0m \u001b[0mz\u001b[0m\u001b[0;34m.\u001b[0m\u001b[0mshape\u001b[0m\u001b[0;34m\u001b[0m\u001b[0;34m\u001b[0m\u001b[0m\n",
            "\u001b[0;31mTypeError\u001b[0m: Input z must be at least a (2, 2) shaped array, but has shape (1, 1)"
          ]
        },
        {
          "output_type": "display_data",
          "data": {
            "text/plain": [
              "<Figure size 640x480 with 1 Axes>"
            ],
            "image/svg+xml": "<?xml version=\"1.0\" encoding=\"utf-8\" standalone=\"no\"?>\n<!DOCTYPE svg PUBLIC \"-//W3C//DTD SVG 1.1//EN\"\n  \"http://www.w3.org/Graphics/SVG/1.1/DTD/svg11.dtd\">\n<svg xmlns:xlink=\"http://www.w3.org/1999/xlink\" width=\"326.237pt\" height=\"318.190125pt\" viewBox=\"0 0 326.237 318.190125\" xmlns=\"http://www.w3.org/2000/svg\" version=\"1.1\">\n <metadata>\n  <rdf:RDF xmlns:dc=\"http://purl.org/dc/elements/1.1/\" xmlns:cc=\"http://creativecommons.org/ns#\" xmlns:rdf=\"http://www.w3.org/1999/02/22-rdf-syntax-ns#\">\n   <cc:Work>\n    <dc:type rdf:resource=\"http://purl.org/dc/dcmitype/StillImage\"/>\n    <dc:date>2024-11-15T01:44:19.864185</dc:date>\n    <dc:format>image/svg+xml</dc:format>\n    <dc:creator>\n     <cc:Agent>\n      <dc:title>Matplotlib v3.8.0, https://matplotlib.org/</dc:title>\n     </cc:Agent>\n    </dc:creator>\n   </cc:Work>\n  </rdf:RDF>\n </metadata>\n <defs>\n  <style type=\"text/css\">*{stroke-linejoin: round; stroke-linecap: butt}</style>\n </defs>\n <g id=\"figure_1\">\n  <g id=\"patch_1\">\n   <path d=\"M 0 318.190125 \nL 326.237 318.190125 \nL 326.237 0 \nL 0 0 \nz\n\" style=\"fill: #ffffff\"/>\n  </g>\n  <g id=\"axes_1\">\n   <g id=\"patch_2\">\n    <path d=\"M 299.35575 159.095062 \nC 299.35575 141.622309 295.913998 124.319455 289.227465 108.176736 \nC 282.540932 92.034016 272.739653 77.365365 260.38455 65.010263 \nC 248.029447 52.65516 233.360796 42.853881 217.218077 36.167347 \nC 201.075357 29.480814 183.772504 26.039062 166.29975 26.039062 \nC 148.826996 26.039062 131.524143 29.480814 115.381423 36.167347 \nC 99.238704 42.853881 84.570053 52.65516 72.21495 65.010263 \nC 59.859847 77.365365 50.058568 92.034016 43.372035 108.176736 \nC 36.685502 124.319455 33.24375 141.622309 33.24375 159.095062 \nC 33.24375 176.567816 36.685502 193.87067 43.372035 210.013389 \nC 50.058568 226.156109 59.859847 240.82476 72.21495 253.179862 \nC 84.570053 265.534965 99.238704 275.336244 115.381423 282.022778 \nC 131.524143 288.709311 148.826996 292.151062 166.29975 292.151062 \nC 183.772504 292.151062 201.075357 288.709311 217.218077 282.022778 \nC 233.360796 275.336244 248.029447 265.534965 260.38455 253.179862 \nC 272.739653 240.82476 282.540932 226.156109 289.227465 210.013389 \nC 295.913998 193.87067 299.35575 176.567816 299.35575 159.095062 \nM 166.29975 159.095062 \nC 166.29975 159.095062 166.29975 159.095062 166.29975 159.095062 \nC 166.29975 159.095062 166.29975 159.095062 166.29975 159.095062 \nC 166.29975 159.095062 166.29975 159.095062 166.29975 159.095062 \nC 166.29975 159.095062 166.29975 159.095062 166.29975 159.095062 \nC 166.29975 159.095062 166.29975 159.095062 166.29975 159.095062 \nC 166.29975 159.095062 166.29975 159.095062 166.29975 159.095062 \nC 166.29975 159.095062 166.29975 159.095062 166.29975 159.095062 \nC 166.29975 159.095062 166.29975 159.095062 166.29975 159.095062 \nC 166.29975 159.095062 166.29975 159.095062 166.29975 159.095062 \nC 166.29975 159.095062 166.29975 159.095062 166.29975 159.095062 \nC 166.29975 159.095062 166.29975 159.095062 166.29975 159.095062 \nC 166.29975 159.095062 166.29975 159.095062 166.29975 159.095062 \nC 166.29975 159.095062 166.29975 159.095062 166.29975 159.095062 \nC 166.29975 159.095062 166.29975 159.095062 166.29975 159.095062 \nC 166.29975 159.095062 166.29975 159.095062 166.29975 159.095062 \nC 166.29975 159.095062 166.29975 159.095062 166.29975 159.095062 \nz\n\" style=\"fill: #ffffff\"/>\n   </g>\n   <g id=\"matplotlib.axis_1\">\n    <g id=\"xtick_1\">\n     <g id=\"line2d_1\">\n      <path d=\"M 166.29975 159.095062 \nL 299.35575 159.095062 \n\" clip-path=\"url(#p2661f53f0c)\" style=\"fill: none; stroke: #b0b0b0; stroke-width: 0.8; stroke-linecap: square\"/>\n     </g>\n     <g id=\"text_1\">\n      <!-- 0° -->\n      <g transform=\"translate(307.6745 161.854437) scale(0.1 -0.1)\">\n       <defs>\n        <path id=\"DejaVuSans-30\" d=\"M 2034 4250 \nQ 1547 4250 1301 3770 \nQ 1056 3291 1056 2328 \nQ 1056 1369 1301 889 \nQ 1547 409 2034 409 \nQ 2525 409 2770 889 \nQ 3016 1369 3016 2328 \nQ 3016 3291 2770 3770 \nQ 2525 4250 2034 4250 \nz\nM 2034 4750 \nQ 2819 4750 3233 4129 \nQ 3647 3509 3647 2328 \nQ 3647 1150 3233 529 \nQ 2819 -91 2034 -91 \nQ 1250 -91 836 529 \nQ 422 1150 422 2328 \nQ 422 3509 836 4129 \nQ 1250 4750 2034 4750 \nz\n\" transform=\"scale(0.015625)\"/>\n        <path id=\"DejaVuSans-b0\" d=\"M 1600 4347 \nQ 1350 4347 1178 4173 \nQ 1006 4000 1006 3750 \nQ 1006 3503 1178 3333 \nQ 1350 3163 1600 3163 \nQ 1850 3163 2022 3333 \nQ 2194 3503 2194 3750 \nQ 2194 3997 2020 4172 \nQ 1847 4347 1600 4347 \nz\nM 1600 4750 \nQ 1800 4750 1984 4673 \nQ 2169 4597 2303 4453 \nQ 2447 4313 2519 4134 \nQ 2591 3956 2591 3750 \nQ 2591 3338 2302 3052 \nQ 2013 2766 1594 2766 \nQ 1172 2766 890 3047 \nQ 609 3328 609 3750 \nQ 609 4169 896 4459 \nQ 1184 4750 1600 4750 \nz\n\" transform=\"scale(0.015625)\"/>\n       </defs>\n       <use xlink:href=\"#DejaVuSans-30\"/>\n       <use xlink:href=\"#DejaVuSans-b0\" x=\"63.623047\"/>\n      </g>\n     </g>\n    </g>\n    <g id=\"xtick_2\">\n     <g id=\"line2d_2\">\n      <path d=\"M 166.29975 159.095062 \nL 260.38455 65.010263 \n\" clip-path=\"url(#p2661f53f0c)\" style=\"fill: none; stroke: #b0b0b0; stroke-width: 0.8; stroke-linecap: square\"/>\n     </g>\n     <g id=\"text_2\">\n      <!-- 45° -->\n      <g transform=\"translate(261.421545 57.870143) scale(0.1 -0.1)\">\n       <defs>\n        <path id=\"DejaVuSans-34\" d=\"M 2419 4116 \nL 825 1625 \nL 2419 1625 \nL 2419 4116 \nz\nM 2253 4666 \nL 3047 4666 \nL 3047 1625 \nL 3713 1625 \nL 3713 1100 \nL 3047 1100 \nL 3047 0 \nL 2419 0 \nL 2419 1100 \nL 313 1100 \nL 313 1709 \nL 2253 4666 \nz\n\" transform=\"scale(0.015625)\"/>\n        <path id=\"DejaVuSans-35\" d=\"M 691 4666 \nL 3169 4666 \nL 3169 4134 \nL 1269 4134 \nL 1269 2991 \nQ 1406 3038 1543 3061 \nQ 1681 3084 1819 3084 \nQ 2600 3084 3056 2656 \nQ 3513 2228 3513 1497 \nQ 3513 744 3044 326 \nQ 2575 -91 1722 -91 \nQ 1428 -91 1123 -41 \nQ 819 9 494 109 \nL 494 744 \nQ 775 591 1075 516 \nQ 1375 441 1709 441 \nQ 2250 441 2565 725 \nQ 2881 1009 2881 1497 \nQ 2881 1984 2565 2268 \nQ 2250 2553 1709 2553 \nQ 1456 2553 1204 2497 \nQ 953 2441 691 2322 \nL 691 4666 \nz\n\" transform=\"scale(0.015625)\"/>\n       </defs>\n       <use xlink:href=\"#DejaVuSans-34\"/>\n       <use xlink:href=\"#DejaVuSans-35\" x=\"63.623047\"/>\n       <use xlink:href=\"#DejaVuSans-b0\" x=\"127.246094\"/>\n      </g>\n     </g>\n    </g>\n    <g id=\"xtick_3\">\n     <g id=\"line2d_3\">\n      <path d=\"M 166.29975 159.095062 \nL 166.29975 26.039062 \n\" clip-path=\"url(#p2661f53f0c)\" style=\"fill: none; stroke: #b0b0b0; stroke-width: 0.8; stroke-linecap: square\"/>\n     </g>\n     <g id=\"text_3\">\n      <!-- 90° -->\n      <g transform=\"translate(157.43725 14.798437) scale(0.1 -0.1)\">\n       <defs>\n        <path id=\"DejaVuSans-39\" d=\"M 703 97 \nL 703 672 \nQ 941 559 1184 500 \nQ 1428 441 1663 441 \nQ 2288 441 2617 861 \nQ 2947 1281 2994 2138 \nQ 2813 1869 2534 1725 \nQ 2256 1581 1919 1581 \nQ 1219 1581 811 2004 \nQ 403 2428 403 3163 \nQ 403 3881 828 4315 \nQ 1253 4750 1959 4750 \nQ 2769 4750 3195 4129 \nQ 3622 3509 3622 2328 \nQ 3622 1225 3098 567 \nQ 2575 -91 1691 -91 \nQ 1453 -91 1209 -44 \nQ 966 3 703 97 \nz\nM 1959 2075 \nQ 2384 2075 2632 2365 \nQ 2881 2656 2881 3163 \nQ 2881 3666 2632 3958 \nQ 2384 4250 1959 4250 \nQ 1534 4250 1286 3958 \nQ 1038 3666 1038 3163 \nQ 1038 2656 1286 2365 \nQ 1534 2075 1959 2075 \nz\n\" transform=\"scale(0.015625)\"/>\n       </defs>\n       <use xlink:href=\"#DejaVuSans-39\"/>\n       <use xlink:href=\"#DejaVuSans-30\" x=\"63.623047\"/>\n       <use xlink:href=\"#DejaVuSans-b0\" x=\"127.246094\"/>\n      </g>\n     </g>\n    </g>\n    <g id=\"xtick_4\">\n     <g id=\"line2d_4\">\n      <path d=\"M 166.29975 159.095062 \nL 72.21495 65.010263 \n\" clip-path=\"url(#p2661f53f0c)\" style=\"fill: none; stroke: #b0b0b0; stroke-width: 0.8; stroke-linecap: square\"/>\n     </g>\n     <g id=\"text_4\">\n      <!-- 135° -->\n      <g transform=\"translate(50.271705 57.870143) scale(0.1 -0.1)\">\n       <defs>\n        <path id=\"DejaVuSans-31\" d=\"M 794 531 \nL 1825 531 \nL 1825 4091 \nL 703 3866 \nL 703 4441 \nL 1819 4666 \nL 2450 4666 \nL 2450 531 \nL 3481 531 \nL 3481 0 \nL 794 0 \nL 794 531 \nz\n\" transform=\"scale(0.015625)\"/>\n        <path id=\"DejaVuSans-33\" d=\"M 2597 2516 \nQ 3050 2419 3304 2112 \nQ 3559 1806 3559 1356 \nQ 3559 666 3084 287 \nQ 2609 -91 1734 -91 \nQ 1441 -91 1130 -33 \nQ 819 25 488 141 \nL 488 750 \nQ 750 597 1062 519 \nQ 1375 441 1716 441 \nQ 2309 441 2620 675 \nQ 2931 909 2931 1356 \nQ 2931 1769 2642 2001 \nQ 2353 2234 1838 2234 \nL 1294 2234 \nL 1294 2753 \nL 1863 2753 \nQ 2328 2753 2575 2939 \nQ 2822 3125 2822 3475 \nQ 2822 3834 2567 4026 \nQ 2313 4219 1838 4219 \nQ 1578 4219 1281 4162 \nQ 984 4106 628 3988 \nL 628 4550 \nQ 988 4650 1302 4700 \nQ 1616 4750 1894 4750 \nQ 2613 4750 3031 4423 \nQ 3450 4097 3450 3541 \nQ 3450 3153 3228 2886 \nQ 3006 2619 2597 2516 \nz\n\" transform=\"scale(0.015625)\"/>\n       </defs>\n       <use xlink:href=\"#DejaVuSans-31\"/>\n       <use xlink:href=\"#DejaVuSans-33\" x=\"63.623047\"/>\n       <use xlink:href=\"#DejaVuSans-35\" x=\"127.246094\"/>\n       <use xlink:href=\"#DejaVuSans-b0\" x=\"190.869141\"/>\n      </g>\n     </g>\n    </g>\n    <g id=\"xtick_5\">\n     <g id=\"line2d_5\">\n      <path d=\"M 166.29975 159.095062 \nL 33.24375 159.095062 \n\" clip-path=\"url(#p2661f53f0c)\" style=\"fill: none; stroke: #b0b0b0; stroke-width: 0.8; stroke-linecap: square\"/>\n     </g>\n     <g id=\"text_5\">\n      <!-- 180° -->\n      <g transform=\"translate(7.2 161.854437) scale(0.1 -0.1)\">\n       <defs>\n        <path id=\"DejaVuSans-38\" d=\"M 2034 2216 \nQ 1584 2216 1326 1975 \nQ 1069 1734 1069 1313 \nQ 1069 891 1326 650 \nQ 1584 409 2034 409 \nQ 2484 409 2743 651 \nQ 3003 894 3003 1313 \nQ 3003 1734 2745 1975 \nQ 2488 2216 2034 2216 \nz\nM 1403 2484 \nQ 997 2584 770 2862 \nQ 544 3141 544 3541 \nQ 544 4100 942 4425 \nQ 1341 4750 2034 4750 \nQ 2731 4750 3128 4425 \nQ 3525 4100 3525 3541 \nQ 3525 3141 3298 2862 \nQ 3072 2584 2669 2484 \nQ 3125 2378 3379 2068 \nQ 3634 1759 3634 1313 \nQ 3634 634 3220 271 \nQ 2806 -91 2034 -91 \nQ 1263 -91 848 271 \nQ 434 634 434 1313 \nQ 434 1759 690 2068 \nQ 947 2378 1403 2484 \nz\nM 1172 3481 \nQ 1172 3119 1398 2916 \nQ 1625 2713 2034 2713 \nQ 2441 2713 2670 2916 \nQ 2900 3119 2900 3481 \nQ 2900 3844 2670 4047 \nQ 2441 4250 2034 4250 \nQ 1625 4250 1398 4047 \nQ 1172 3844 1172 3481 \nz\n\" transform=\"scale(0.015625)\"/>\n       </defs>\n       <use xlink:href=\"#DejaVuSans-31\"/>\n       <use xlink:href=\"#DejaVuSans-38\" x=\"63.623047\"/>\n       <use xlink:href=\"#DejaVuSans-30\" x=\"127.246094\"/>\n       <use xlink:href=\"#DejaVuSans-b0\" x=\"190.869141\"/>\n      </g>\n     </g>\n    </g>\n    <g id=\"xtick_6\">\n     <g id=\"line2d_6\">\n      <path d=\"M 166.29975 159.095062 \nL 72.21495 253.179862 \n\" clip-path=\"url(#p2661f53f0c)\" style=\"fill: none; stroke: #b0b0b0; stroke-width: 0.8; stroke-linecap: square\"/>\n     </g>\n     <g id=\"text_6\">\n      <!-- 225° -->\n      <g transform=\"translate(50.271705 265.838732) scale(0.1 -0.1)\">\n       <defs>\n        <path id=\"DejaVuSans-32\" d=\"M 1228 531 \nL 3431 531 \nL 3431 0 \nL 469 0 \nL 469 531 \nQ 828 903 1448 1529 \nQ 2069 2156 2228 2338 \nQ 2531 2678 2651 2914 \nQ 2772 3150 2772 3378 \nQ 2772 3750 2511 3984 \nQ 2250 4219 1831 4219 \nQ 1534 4219 1204 4116 \nQ 875 4013 500 3803 \nL 500 4441 \nQ 881 4594 1212 4672 \nQ 1544 4750 1819 4750 \nQ 2544 4750 2975 4387 \nQ 3406 4025 3406 3419 \nQ 3406 3131 3298 2873 \nQ 3191 2616 2906 2266 \nQ 2828 2175 2409 1742 \nQ 1991 1309 1228 531 \nz\n\" transform=\"scale(0.015625)\"/>\n       </defs>\n       <use xlink:href=\"#DejaVuSans-32\"/>\n       <use xlink:href=\"#DejaVuSans-32\" x=\"63.623047\"/>\n       <use xlink:href=\"#DejaVuSans-35\" x=\"127.246094\"/>\n       <use xlink:href=\"#DejaVuSans-b0\" x=\"190.869141\"/>\n      </g>\n     </g>\n    </g>\n    <g id=\"xtick_7\">\n     <g id=\"line2d_7\">\n      <path d=\"M 166.29975 159.095062 \nL 166.29975 292.151062 \n\" clip-path=\"url(#p2661f53f0c)\" style=\"fill: none; stroke: #b0b0b0; stroke-width: 0.8; stroke-linecap: square\"/>\n     </g>\n     <g id=\"text_7\">\n      <!-- 270° -->\n      <g transform=\"translate(154.256 308.910437) scale(0.1 -0.1)\">\n       <defs>\n        <path id=\"DejaVuSans-37\" d=\"M 525 4666 \nL 3525 4666 \nL 3525 4397 \nL 1831 0 \nL 1172 0 \nL 2766 4134 \nL 525 4134 \nL 525 4666 \nz\n\" transform=\"scale(0.015625)\"/>\n       </defs>\n       <use xlink:href=\"#DejaVuSans-32\"/>\n       <use xlink:href=\"#DejaVuSans-37\" x=\"63.623047\"/>\n       <use xlink:href=\"#DejaVuSans-30\" x=\"127.246094\"/>\n       <use xlink:href=\"#DejaVuSans-b0\" x=\"190.869141\"/>\n      </g>\n     </g>\n    </g>\n    <g id=\"xtick_8\">\n     <g id=\"line2d_8\">\n      <path d=\"M 166.29975 159.095062 \nL 260.38455 253.179862 \n\" clip-path=\"url(#p2661f53f0c)\" style=\"fill: none; stroke: #b0b0b0; stroke-width: 0.8; stroke-linecap: square\"/>\n     </g>\n     <g id=\"text_8\">\n      <!-- 315° -->\n      <g transform=\"translate(258.240295 265.838732) scale(0.1 -0.1)\">\n       <use xlink:href=\"#DejaVuSans-33\"/>\n       <use xlink:href=\"#DejaVuSans-31\" x=\"63.623047\"/>\n       <use xlink:href=\"#DejaVuSans-35\" x=\"127.246094\"/>\n       <use xlink:href=\"#DejaVuSans-b0\" x=\"190.869141\"/>\n      </g>\n     </g>\n    </g>\n   </g>\n   <g id=\"matplotlib.axis_2\">\n    <g id=\"ytick_1\">\n     <g id=\"line2d_9\">\n      <path d=\"M 192.91095 159.095062 \nC 192.91095 155.600512 192.2226 152.139941 190.885293 148.911397 \nC 189.547986 145.682853 187.587731 142.749123 185.11671 140.278103 \nC 182.645689 137.807082 179.711959 135.846826 176.483415 134.509519 \nC 173.254871 133.172213 169.794301 132.483862 166.29975 132.483862 \nC 162.805199 132.483862 159.344629 133.172213 156.116085 134.509519 \nC 152.887541 135.846826 149.953811 137.807082 147.48279 140.278103 \nC 145.011769 142.749123 143.051514 145.682853 141.714207 148.911397 \nC 140.3769 152.139941 139.68855 155.600512 139.68855 159.095062 \nC 139.68855 162.589613 140.3769 166.050184 141.714207 169.278728 \nC 143.051514 172.507272 145.011769 175.441002 147.48279 177.912022 \nC 149.953811 180.383043 152.887541 182.343299 156.116085 183.680606 \nC 159.344629 185.017912 162.805199 185.706262 166.29975 185.706262 \nC 169.794301 185.706262 173.254871 185.017912 176.483415 183.680606 \nC 179.711959 182.343299 182.645689 180.383043 185.11671 177.912022 \nC 187.587731 175.441002 189.547986 172.507272 190.885293 169.278728 \nC 192.2226 166.050184 192.91095 162.589613 192.91095 159.095062 \n\" clip-path=\"url(#p2661f53f0c)\" style=\"fill: none; stroke: #b0b0b0; stroke-width: 0.8; stroke-linecap: square\"/>\n     </g>\n     <g id=\"text_9\">\n      <!-- 0.2 -->\n      <g transform=\"translate(190.885293 146.83171) scale(0.1 -0.1)\">\n       <defs>\n        <path id=\"DejaVuSans-2e\" d=\"M 684 794 \nL 1344 794 \nL 1344 0 \nL 684 0 \nL 684 794 \nz\n\" transform=\"scale(0.015625)\"/>\n       </defs>\n       <use xlink:href=\"#DejaVuSans-30\"/>\n       <use xlink:href=\"#DejaVuSans-2e\" x=\"63.623047\"/>\n       <use xlink:href=\"#DejaVuSans-32\" x=\"95.410156\"/>\n      </g>\n     </g>\n    </g>\n    <g id=\"ytick_2\">\n     <g id=\"line2d_10\">\n      <path d=\"M 219.52215 159.095062 \nC 219.52215 152.105961 218.145449 145.18482 215.470836 138.727732 \nC 212.796223 132.270644 208.875711 126.403184 203.93367 121.461143 \nC 198.991629 116.519101 193.124169 112.59859 186.667081 109.923976 \nC 180.209993 107.249363 173.288852 105.872662 166.29975 105.872662 \nC 159.310648 105.872662 152.389507 107.249363 145.932419 109.923976 \nC 139.475331 112.59859 133.607871 116.519101 128.66583 121.461143 \nC 123.723789 126.403184 119.803277 132.270644 117.128664 138.727732 \nC 114.454051 145.18482 113.07735 152.105961 113.07735 159.095062 \nC 113.07735 166.084164 114.454051 173.005305 117.128664 179.462393 \nC 119.803277 185.919481 123.723789 191.786941 128.66583 196.728982 \nC 133.607871 201.671024 139.475331 205.591535 145.932419 208.266149 \nC 152.389507 210.940762 159.310648 212.317462 166.29975 212.317462 \nC 173.288852 212.317462 180.209993 210.940762 186.667081 208.266149 \nC 193.124169 205.591535 198.991629 201.671024 203.93367 196.728982 \nC 208.875711 191.786941 212.796223 185.919481 215.470836 179.462393 \nC 218.145449 173.005305 219.52215 166.084164 219.52215 159.095062 \n\" clip-path=\"url(#p2661f53f0c)\" style=\"fill: none; stroke: #b0b0b0; stroke-width: 0.8; stroke-linecap: square\"/>\n     </g>\n     <g id=\"text_10\">\n      <!-- 0.4 -->\n      <g transform=\"translate(215.470836 136.648044) scale(0.1 -0.1)\">\n       <use xlink:href=\"#DejaVuSans-30\"/>\n       <use xlink:href=\"#DejaVuSans-2e\" x=\"63.623047\"/>\n       <use xlink:href=\"#DejaVuSans-34\" x=\"95.410156\"/>\n      </g>\n     </g>\n    </g>\n    <g id=\"ytick_3\">\n     <g id=\"line2d_11\">\n      <path d=\"M 246.13335 159.095062 \nC 246.13335 148.61141 244.068299 138.229698 240.056379 128.544066 \nC 236.044459 118.858435 230.163692 110.057244 222.75063 102.644183 \nC 215.337568 95.231121 206.536378 89.350353 196.850746 85.338433 \nC 187.165114 81.326513 176.783402 79.261462 166.29975 79.261462 \nC 155.816098 79.261462 145.434386 81.326513 135.748754 85.338433 \nC 126.063122 89.350353 117.261932 95.231121 109.84887 102.644183 \nC 102.435808 110.057244 96.555041 118.858435 92.543121 128.544066 \nC 88.531201 138.229698 86.46615 148.61141 86.46615 159.095062 \nC 86.46615 169.578715 88.531201 179.960427 92.543121 189.646059 \nC 96.555041 199.33169 102.435808 208.132881 109.84887 215.545942 \nC 117.261932 222.959004 126.063122 228.839772 135.748754 232.851692 \nC 145.434386 236.863612 155.816098 238.928662 166.29975 238.928662 \nC 176.783402 238.928662 187.165114 236.863612 196.850746 232.851692 \nC 206.536378 228.839772 215.337568 222.959004 222.75063 215.545942 \nC 230.163692 208.132881 236.044459 199.33169 240.056379 189.646059 \nC 244.068299 179.960427 246.13335 169.578715 246.13335 159.095062 \n\" clip-path=\"url(#p2661f53f0c)\" style=\"fill: none; stroke: #b0b0b0; stroke-width: 0.8; stroke-linecap: square\"/>\n     </g>\n     <g id=\"text_11\">\n      <!-- 0.6 -->\n      <g transform=\"translate(240.056379 126.464379) scale(0.1 -0.1)\">\n       <defs>\n        <path id=\"DejaVuSans-36\" d=\"M 2113 2584 \nQ 1688 2584 1439 2293 \nQ 1191 2003 1191 1497 \nQ 1191 994 1439 701 \nQ 1688 409 2113 409 \nQ 2538 409 2786 701 \nQ 3034 994 3034 1497 \nQ 3034 2003 2786 2293 \nQ 2538 2584 2113 2584 \nz\nM 3366 4563 \nL 3366 3988 \nQ 3128 4100 2886 4159 \nQ 2644 4219 2406 4219 \nQ 1781 4219 1451 3797 \nQ 1122 3375 1075 2522 \nQ 1259 2794 1537 2939 \nQ 1816 3084 2150 3084 \nQ 2853 3084 3261 2657 \nQ 3669 2231 3669 1497 \nQ 3669 778 3244 343 \nQ 2819 -91 2113 -91 \nQ 1303 -91 875 529 \nQ 447 1150 447 2328 \nQ 447 3434 972 4092 \nQ 1497 4750 2381 4750 \nQ 2619 4750 2861 4703 \nQ 3103 4656 3366 4563 \nz\n\" transform=\"scale(0.015625)\"/>\n       </defs>\n       <use xlink:href=\"#DejaVuSans-30\"/>\n       <use xlink:href=\"#DejaVuSans-2e\" x=\"63.623047\"/>\n       <use xlink:href=\"#DejaVuSans-36\" x=\"95.410156\"/>\n      </g>\n     </g>\n    </g>\n    <g id=\"ytick_4\">\n     <g id=\"line2d_12\">\n      <path d=\"M 272.74455 159.095062 \nC 272.74455 145.116859 269.991149 131.274577 264.641922 118.360401 \nC 259.292695 105.446225 251.451672 93.711305 241.56759 83.827223 \nC 231.683508 73.94314 219.948587 66.102117 207.034411 60.75289 \nC 194.120236 55.403664 180.277953 52.650262 166.29975 52.650262 \nC 152.321547 52.650262 138.479264 55.403664 125.565089 60.75289 \nC 112.650913 66.102117 100.915992 73.94314 91.03191 83.827223 \nC 81.147828 93.711305 73.306805 105.446225 67.957578 118.360401 \nC 62.608351 131.274577 59.85495 145.116859 59.85495 159.095062 \nC 59.85495 173.073266 62.608351 186.915548 67.957578 199.829724 \nC 73.306805 212.7439 81.147828 224.47882 91.03191 234.362902 \nC 100.915992 244.246985 112.650913 252.088008 125.565089 257.437235 \nC 138.479264 262.786461 152.321547 265.539862 166.29975 265.539862 \nC 180.277953 265.539862 194.120236 262.786461 207.034411 257.437235 \nC 219.948587 252.088008 231.683508 244.246985 241.56759 234.362902 \nC 251.451672 224.47882 259.292695 212.7439 264.641922 199.829724 \nC 269.991149 186.915548 272.74455 173.073266 272.74455 159.095062 \n\" clip-path=\"url(#p2661f53f0c)\" style=\"fill: none; stroke: #b0b0b0; stroke-width: 0.8; stroke-linecap: square\"/>\n     </g>\n     <g id=\"text_12\">\n      <!-- 0.8 -->\n      <g transform=\"translate(264.641922 116.280714) scale(0.1 -0.1)\">\n       <use xlink:href=\"#DejaVuSans-30\"/>\n       <use xlink:href=\"#DejaVuSans-2e\" x=\"63.623047\"/>\n       <use xlink:href=\"#DejaVuSans-38\" x=\"95.410156\"/>\n      </g>\n     </g>\n    </g>\n    <g id=\"ytick_5\">\n     <g id=\"line2d_13\">\n      <path d=\"M 299.35575 159.095062 \nC 299.35575 141.622309 295.913998 124.319455 289.227465 108.176736 \nC 282.540932 92.034016 272.739653 77.365365 260.38455 65.010263 \nC 248.029447 52.65516 233.360796 42.853881 217.218077 36.167347 \nC 201.075357 29.480814 183.772504 26.039062 166.29975 26.039062 \nC 148.826996 26.039062 131.524143 29.480814 115.381423 36.167347 \nC 99.238704 42.853881 84.570053 52.65516 72.21495 65.010263 \nC 59.859847 77.365365 50.058568 92.034016 43.372035 108.176736 \nC 36.685502 124.319455 33.24375 141.622309 33.24375 159.095062 \nC 33.24375 176.567816 36.685502 193.87067 43.372035 210.013389 \nC 50.058568 226.156109 59.859847 240.82476 72.21495 253.179862 \nC 84.570053 265.534965 99.238704 275.336244 115.381423 282.022778 \nC 131.524143 288.709311 148.826996 292.151062 166.29975 292.151062 \nC 183.772504 292.151062 201.075357 288.709311 217.218077 282.022778 \nC 233.360796 275.336244 248.029447 265.534965 260.38455 253.179862 \nC 272.739653 240.82476 282.540932 226.156109 289.227465 210.013389 \nC 295.913998 193.87067 299.35575 176.567816 299.35575 159.095062 \n\" clip-path=\"url(#p2661f53f0c)\" style=\"fill: none; stroke: #b0b0b0; stroke-width: 0.8; stroke-linecap: square\"/>\n     </g>\n     <g id=\"text_13\">\n      <!-- 1.0 -->\n      <g transform=\"translate(289.227465 106.097048) scale(0.1 -0.1)\">\n       <use xlink:href=\"#DejaVuSans-31\"/>\n       <use xlink:href=\"#DejaVuSans-2e\" x=\"63.623047\"/>\n       <use xlink:href=\"#DejaVuSans-30\" x=\"95.410156\"/>\n      </g>\n     </g>\n    </g>\n   </g>\n   <g id=\"patch_3\">\n    <path d=\"M 299.35575 159.095062 \nC 299.35575 141.622309 295.913998 124.319455 289.227465 108.176736 \nC 282.540932 92.034016 272.739653 77.365365 260.38455 65.010263 \nC 248.029447 52.65516 233.360796 42.853881 217.218077 36.167347 \nC 201.075357 29.480814 183.772504 26.039062 166.29975 26.039062 \nC 148.826996 26.039062 131.524143 29.480814 115.381423 36.167347 \nC 99.238704 42.853881 84.570053 52.65516 72.21495 65.010263 \nC 59.859847 77.365365 50.058568 92.034016 43.372035 108.176736 \nC 36.685502 124.319455 33.24375 141.622309 33.24375 159.095062 \nC 33.24375 176.567816 36.685502 193.87067 43.372035 210.013389 \nC 50.058568 226.156109 59.859847 240.82476 72.21495 253.179862 \nC 84.570053 265.534965 99.238704 275.336244 115.381423 282.022778 \nC 131.524143 288.709311 148.826996 292.151062 166.29975 292.151062 \nC 183.772504 292.151062 201.075357 288.709311 217.218077 282.022778 \nC 233.360796 275.336244 248.029447 265.534965 260.38455 253.179862 \nC 272.739653 240.82476 282.540932 226.156109 289.227465 210.013389 \nC 295.913998 193.87067 299.35575 176.567816 299.35575 159.095062 \n\" style=\"fill: none; stroke: #000000; stroke-width: 0.8; stroke-linejoin: miter; stroke-linecap: square\"/>\n   </g>\n  </g>\n </g>\n <defs>\n  <clipPath id=\"p2661f53f0c\">\n   <path d=\"M 299.35575 159.095062 \nC 299.35575 141.622309 295.913998 124.319455 289.227465 108.176736 \nC 282.540932 92.034016 272.739653 77.365365 260.38455 65.010263 \nC 248.029447 52.65516 233.360796 42.853881 217.218077 36.167347 \nC 201.075357 29.480814 183.772504 26.039062 166.29975 26.039062 \nC 148.826996 26.039062 131.524143 29.480814 115.381423 36.167347 \nC 99.238704 42.853881 84.570053 52.65516 72.21495 65.010263 \nC 59.859847 77.365365 50.058568 92.034016 43.372035 108.176736 \nC 36.685502 124.319455 33.24375 141.622309 33.24375 159.095062 \nC 33.24375 176.567816 36.685502 193.87067 43.372035 210.013389 \nC 50.058568 226.156109 59.859847 240.82476 72.21495 253.179862 \nC 84.570053 265.534965 99.238704 275.336244 115.381423 282.022778 \nC 131.524143 288.709311 148.826996 292.151062 166.29975 292.151062 \nC 183.772504 292.151062 201.075357 288.709311 217.218077 282.022778 \nC 233.360796 275.336244 248.029447 265.534965 260.38455 253.179862 \nC 272.739653 240.82476 282.540932 226.156109 289.227465 210.013389 \nC 295.913998 193.87067 299.35575 176.567816 299.35575 159.095062 \nM 166.29975 159.095062 \nC 166.29975 159.095062 166.29975 159.095062 166.29975 159.095062 \nC 166.29975 159.095062 166.29975 159.095062 166.29975 159.095062 \nC 166.29975 159.095062 166.29975 159.095062 166.29975 159.095062 \nC 166.29975 159.095062 166.29975 159.095062 166.29975 159.095062 \nC 166.29975 159.095062 166.29975 159.095062 166.29975 159.095062 \nC 166.29975 159.095062 166.29975 159.095062 166.29975 159.095062 \nC 166.29975 159.095062 166.29975 159.095062 166.29975 159.095062 \nC 166.29975 159.095062 166.29975 159.095062 166.29975 159.095062 \nC 166.29975 159.095062 166.29975 159.095062 166.29975 159.095062 \nC 166.29975 159.095062 166.29975 159.095062 166.29975 159.095062 \nC 166.29975 159.095062 166.29975 159.095062 166.29975 159.095062 \nC 166.29975 159.095062 166.29975 159.095062 166.29975 159.095062 \nC 166.29975 159.095062 166.29975 159.095062 166.29975 159.095062 \nC 166.29975 159.095062 166.29975 159.095062 166.29975 159.095062 \nC 166.29975 159.095062 166.29975 159.095062 166.29975 159.095062 \nC 166.29975 159.095062 166.29975 159.095062 166.29975 159.095062 \nz\n\"/>\n  </clipPath>\n </defs>\n</svg>\n"
          },
          "metadata": {}
        }
      ],
      "source": [
        "theta_array = c_array * np.pi/2\n",
        "\n",
        "X, Y = np.meshgrid(theta_array, r_array)\n",
        "Z = np.array(list(max_error.values())).reshape(len(r_array), len(theta_array))\n",
        "Z = np.log2(Z)\n",
        "Z[Z>0] = 0\n",
        "\n",
        "ax = plt.subplot(111, projection='polar')\n",
        "\n",
        "cnt = ax.contourf(X, Y, Z)\n",
        "legend = plt.colorbar(cnt, ax=ax, pad=0.1)\n",
        "\n",
        "\n",
        "ax.set_rlim(0, max(r_array)+1)\n",
        "ax.set_thetalim(0, np.pi/2)\n",
        "ax.set_rticks(range(0, max(r_array)+1))\n",
        "ax.set_rlabel_position(-22.5)\n",
        "theta_ticks = np.linspace(0, 90, 11)\n",
        "ax.set_thetagrids(theta_ticks, theta_ticks/90)\n",
        "ax.grid(True)\n",
        "\n",
        "ax.set_title(\"Error log vs R and C\", va='bottom')\n",
        "show_plot()"
      ]
    },
    {
      "cell_type": "code",
      "execution_count": 40,
      "metadata": {
        "colab": {
          "base_uri": "https://localhost:8080/",
          "height": 211
        },
        "id": "WfF3UGS3MkL-",
        "outputId": "98aaecf8-f1fb-4307-a088-7ec19f3973e5"
      },
      "outputs": [
        {
          "output_type": "error",
          "ename": "KeyError",
          "evalue": "(1, 0.05)",
          "traceback": [
            "\u001b[0;31m---------------------------------------------------------------------------\u001b[0m",
            "\u001b[0;31mKeyError\u001b[0m                                  Traceback (most recent call last)",
            "\u001b[0;32m<ipython-input-40-79e9b361cd7a>\u001b[0m in \u001b[0;36m<cell line: 2>\u001b[0;34m()\u001b[0m\n\u001b[1;32m      1\u001b[0m \u001b[0mkey\u001b[0m \u001b[0;34m=\u001b[0m \u001b[0;34m(\u001b[0m\u001b[0;36m1\u001b[0m\u001b[0;34m,\u001b[0m\u001b[0;36m.05\u001b[0m\u001b[0;34m)\u001b[0m\u001b[0;34m\u001b[0m\u001b[0;34m\u001b[0m\u001b[0m\n\u001b[0;32m----> 2\u001b[0;31m \u001b[0mnumerical_result\u001b[0m \u001b[0;34m=\u001b[0m \u001b[0mresults\u001b[0m\u001b[0;34m[\u001b[0m\u001b[0mkey\u001b[0m\u001b[0;34m]\u001b[0m\u001b[0;34m\u001b[0m\u001b[0;34m\u001b[0m\u001b[0m\n\u001b[0m\u001b[1;32m      3\u001b[0m \u001b[0mdomain\u001b[0m \u001b[0;34m=\u001b[0m \u001b[0mdomains\u001b[0m\u001b[0;34m[\u001b[0m\u001b[0mkey\u001b[0m\u001b[0;34m]\u001b[0m\u001b[0;34m\u001b[0m\u001b[0;34m\u001b[0m\u001b[0m\n\u001b[1;32m      4\u001b[0m \u001b[0mu\u001b[0m \u001b[0;34m=\u001b[0m \u001b[0msp\u001b[0m\u001b[0;34m.\u001b[0m\u001b[0mlambdify\u001b[0m\u001b[0;34m(\u001b[0m\u001b[0;34m\"x,t\"\u001b[0m\u001b[0;34m,\u001b[0m \u001b[0msolutions\u001b[0m\u001b[0;34m[\u001b[0m\u001b[0mkey\u001b[0m\u001b[0;34m]\u001b[0m\u001b[0;34m)\u001b[0m\u001b[0;34m\u001b[0m\u001b[0;34m\u001b[0m\u001b[0m\n\u001b[1;32m      5\u001b[0m \u001b[0;34m\u001b[0m\u001b[0m\n",
            "\u001b[0;31mKeyError\u001b[0m: (1, 0.05)"
          ]
        }
      ],
      "source": [
        "key = (1,.05)\n",
        "numerical_result = results[key]\n",
        "domain = domains[key]\n",
        "u = sp.lambdify(\"x,t\", solutions[key])\n",
        "\n",
        "\n",
        "fig = plt.figure(figsize=(9, 6))\n",
        "ax = fig.add_subplot(121)\n",
        "ax.set_title(\"Numerical and analytical solution\", pad = 20)\n",
        "#ax = fig.add_axes([0, 0, 1, 1], frameon=False)\n",
        "ax.set_xlim(-1, 1)\n",
        "ax.set_ylim(1, 3)\n",
        "line, = ax.step(domain, numerical_result[0], where='mid')\n",
        "line2, = ax.plot(domain, u(domain, 0))\n",
        "ax = fig.add_subplot(122)\n",
        "ax.set_title(\"Difference between analytical and numerical solution\", pad = 20)\n",
        "line3, = ax.plot(domain, u(domain, 0) - numerical_result[0])\n",
        "ax.set_ylim(-.1, .1)\n",
        "ax.set_xlim( -1, 1)\n",
        "\n",
        "interval = 25 #ms\n",
        "frame_list = np.arange(len(numerical_result), dtype=int)\n",
        "\n",
        "def update(frame_num):\n",
        "    line.set_ydata(numerical_result[frame_num])\n",
        "    line2.set_ydata(u(domain, frame_num * steps_per_iter))\n",
        "    line3.set_ydata(u(domain, frame_num * steps_per_iter) - numerical_result[frame_num])\n",
        "    return line, line2, line3\n",
        "\n",
        "animation = FuncAnimation(fig, update, frames=frame_list, interval=interval, blit=True)\n",
        "fig.show()"
      ]
    },
    {
      "cell_type": "code",
      "execution_count": null,
      "metadata": {
        "id": "oXrbkQlGMkL_"
      },
      "outputs": [],
      "source": [
        "if 'CI' not in os.environ:\n",
        "    display(HTML(animation.to_html5_video()))"
      ]
    },
    {
      "cell_type": "code",
      "execution_count": null,
      "metadata": {
        "id": "AAvVmRlgMkL_"
      },
      "outputs": [],
      "source": []
    }
  ],
  "metadata": {
    "kernelspec": {
      "display_name": "Python 3 (ipykernel)",
      "language": "python",
      "name": "python3"
    },
    "language_info": {
      "codemirror_mode": {
        "name": "ipython",
        "version": 3
      },
      "file_extension": ".py",
      "mimetype": "text/x-python",
      "name": "python",
      "nbconvert_exporter": "python",
      "pygments_lexer": "ipython3",
      "version": "3.9.2"
    },
    "colab": {
      "provenance": [],
      "include_colab_link": true
    }
  },
  "nbformat": 4,
  "nbformat_minor": 0
}